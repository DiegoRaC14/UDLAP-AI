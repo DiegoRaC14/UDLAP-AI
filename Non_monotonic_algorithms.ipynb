{
  "nbformat": 4,
  "nbformat_minor": 0,
  "metadata": {
    "colab": {
      "provenance": []
    },
    "kernelspec": {
      "name": "python3",
      "display_name": "Python 3"
    },
    "language_info": {
      "name": "python"
    }
  },
  "cells": [
    {
      "cell_type": "markdown",
      "source": [
        "# **Non-monotonic algorithms**"
      ],
      "metadata": {
        "id": "VyfNRr0dtwJE"
      }
    },
    {
      "cell_type": "markdown",
      "source": [
        "### **Case 4**"
      ],
      "metadata": {
        "id": "BI88zneIt1gL"
      }
    },
    {
      "cell_type": "markdown",
      "source": [
        "### **Default logic**"
      ],
      "metadata": {
        "id": "bnLibIOXvRoJ"
      }
    },
    {
      "cell_type": "code",
      "execution_count": null,
      "metadata": {
        "id": "7lb3_m3Br6gI"
      },
      "outputs": [],
      "source": [
        "class DefaultLogic():\n",
        "\n",
        "  def __init__(self):\n",
        "    self.__facts = set() # Initialize set of facts\n",
        "    self.__exceptions = set() # Initialize set of exceptions\n",
        "\n",
        "  # Add fact to the set previously defined\n",
        "  def add_facts(self, fact):\n",
        "    self.__facts.add(fact)\n",
        "\n",
        "  # Add exception to the set previously defined\n",
        "  def add_exceptions(self, exception):\n",
        "    self.__exceptions.add(exception)\n",
        "\n",
        "  # Getters\n",
        "  def get_facts(self):\n",
        "    return self.__facts\n",
        "\n",
        "  def get_exceptions(self):\n",
        "    return self.__exceptions\n",
        "\n",
        "  # Inference using default logic\n",
        "  def infer_default(self, entity, sentence):\n",
        "    premise1, premise2, conclusion = sentence\n",
        "    # Handles contradictions of the premises\n",
        "    if (premise1 in self.__facts and\n",
        "        premise2 in self.__facts and\n",
        "        premise1 not in self.__exceptions and\n",
        "        premise2 not in self.__exceptions):\n",
        "      return entity, conclusion\n",
        "\n",
        "    return entity, \"Cannot be inferred.\""
      ]
    },
    {
      "cell_type": "code",
      "source": [
        "# ----Demonstration----\n",
        "def_logic = DefaultLogic()\n",
        "\n",
        "# Known fact: Socrates\n",
        "def_logic.add_facts(\"is_human_Socrates\")\n",
        "def_logic.add_facts(\"are_mortals_humans\")\n",
        "\n",
        "test_sentence = (\"is_human_Socrates\", \"are_mortals_humans\",\"is_mortal_Socrates\")\n",
        "\n",
        "def_logic.infer_default(\"Socrates\", test_sentence)\n",
        "\n",
        "# Now, we descover an exception, for example, Socrates is not a human\n",
        "def_logic.add_exceptions(\"is_human_Socrates\")\n",
        "def_logic.infer_default(\"Socrates\", test_sentence)\n",
        "\n",
        "# Adding facts\n",
        "\n",
        "# Known fact about a person\n",
        "def_logic.add_facts(\"stable_job\")\n",
        "def_logic.add_facts(\"no_high_debts\")\n",
        "def_logic.add_facts(\"save_20_percent_income\")\n",
        "def_logic.add_facts(\"age_under_50\")\n",
        "def_logic.add_facts(\"age_over_22\")\n",
        "def_logic.add_facts(\"high_income\")\n",
        "\n",
        "# Adding exceptions\n",
        "def_logic.add_exceptions(\"low_interest_rate_debt\")\n",
        "def_logic.add_exceptions(\"low_income\")\n",
        "def_logic.add_exceptions(\"no_high_debts\") # We find out the client has many debts\n",
        "def_logic.add_exceptions(\"stable_job\") # We find out the client doesn't have a stable job\n",
        "def_logic.add_exceptions(\"\")\n",
        "\n",
        "# Define a proper inference rule\n",
        "sentence = (\"age_under_50\", \"stable_job\", \"financially_stable\")\n",
        "\n",
        "# Perform inference\n",
        "entity, result = def_logic.infer_default(\"Carla\", test_sentence)\n",
        "print(entity, \":\", result)"
      ],
      "metadata": {
        "colab": {
          "base_uri": "https://localhost:8080/"
        },
        "id": "WrR54ygYzHpk",
        "outputId": "a0a8f1ef-e1a7-4cdb-9b72-332525598f86"
      },
      "execution_count": null,
      "outputs": [
        {
          "output_type": "stream",
          "name": "stdout",
          "text": [
            "Carla : Cannot be inferred.\n"
          ]
        }
      ]
    },
    {
      "cell_type": "code",
      "source": [],
      "metadata": {
        "id": "hcszaKpQjs6L"
      },
      "execution_count": null,
      "outputs": []
    }
  ]
}