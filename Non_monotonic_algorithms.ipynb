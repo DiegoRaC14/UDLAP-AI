{
  "nbformat": 4,
  "nbformat_minor": 0,
  "metadata": {
    "colab": {
      "provenance": []
    },
    "kernelspec": {
      "name": "python3",
      "display_name": "Python 3"
    },
    "language_info": {
      "name": "python"
    }
  },
  "cells": [
    {
      "cell_type": "markdown",
      "source": [
        "# **Non-monotonic algorithms**"
      ],
      "metadata": {
        "id": "VyfNRr0dtwJE"
      }
    },
    {
      "cell_type": "markdown",
      "source": [
        "<div align = \"justify\">\n",
        "\n",
        "### **Case 4: Financial advisory system**\n",
        "\n",
        "*Description:* Design a system that offers personalized financial advice based on the user's profile.\n",
        "\n",
        "*Example:* Advice on investments, savings, and retirement planning.\n",
        "\n",
        "*Components:* Knowledge base with financial strategies and risk profiles,inference engine to generate recommendations, user interface for inputting financial information.\n",
        "\n",
        "</div>"
      ],
      "metadata": {
        "id": "BI88zneIt1gL"
      }
    },
    {
      "cell_type": "markdown",
      "source": [
        "### **Default logic**"
      ],
      "metadata": {
        "id": "bnLibIOXvRoJ"
      }
    },
    {
      "cell_type": "code",
      "execution_count": 1,
      "metadata": {
        "id": "7lb3_m3Br6gI"
      },
      "outputs": [],
      "source": [
        "class DefaultLogic():\n",
        "\n",
        "  def __init__(self):\n",
        "    self.__facts = set() # Initialize set of facts\n",
        "    self.__exceptions = set() # Initialize set of exceptions\n",
        "\n",
        "  # Add fact to the set previously defined\n",
        "  def add_facts(self, fact):\n",
        "    self.__facts.add(fact)\n",
        "\n",
        "  # Add exception to the set previously defined\n",
        "  def add_exceptions(self, exception):\n",
        "    self.__exceptions.add(exception)\n",
        "\n",
        "  # Getters\n",
        "  def get_facts(self):\n",
        "    return self.__facts\n",
        "\n",
        "  def get_exceptions(self):\n",
        "    return self.__exceptions\n",
        "\n",
        "  # Inference using default logic\n",
        "  def infer_default(self, entity, sentence):\n",
        "    premise1, premise2, conclusion = sentence\n",
        "    # Handles contradictions of the premises\n",
        "    if (premise1 in self.__facts and\n",
        "        premise2 in self.__facts and\n",
        "        premise1 not in self.__exceptions and\n",
        "        premise2 not in self.__exceptions):\n",
        "      return entity, conclusion\n",
        "\n",
        "    return entity, \"Cannot be inferred.\""
      ]
    },
    {
      "cell_type": "code",
      "source": [
        "# ----Demonstration----\n",
        "def_logic = DefaultLogic()\n",
        "\n",
        "# Adding facts\n",
        "def_logic.add_facts(\"stable_job\") # Known fact about a person\n",
        "def_logic.add_facts(\"no_high_debts\")\n",
        "def_logic.add_facts(\"save_20_percent_income\")\n",
        "def_logic.add_facts(\"age_under_50\")\n",
        "def_logic.add_facts(\"age_over_22\")\n",
        "def_logic.add_facts(\"high_income\")\n",
        "\n",
        "# Adding exceptions\n",
        "def_logic.add_exceptions(\"low_interest_rate_debt\")\n",
        "def_logic.add_exceptions(\"low_income\")\n",
        "def_logic.add_exceptions(\"no_high_debts\") # We find out the client has many debts\n",
        "def_logic.add_exceptions(\"stable_job\") # We find out the client doesn't have a stable job\n",
        "def_logic.add_exceptions(\"\")\n",
        "\n",
        "# Define a proper inference rule\n",
        "sentence = (\"age_under_50\", \"stable_job\", \"financially_stable\")\n",
        "\n",
        "# Perform inference\n",
        "entity, result = def_logic.infer_default(\"Carla\", sentence)\n",
        "print(entity, \":\", result)"
      ],
      "metadata": {
        "colab": {
          "base_uri": "https://localhost:8080/"
        },
        "id": "WrR54ygYzHpk",
        "outputId": "51758ca8-2dde-4b35-9a0d-dd1238cd63d6"
      },
      "execution_count": 2,
      "outputs": [
        {
          "output_type": "stream",
          "name": "stdout",
          "text": [
            "Carla : Cannot be inferred.\n"
          ]
        }
      ]
    },
    {
      "cell_type": "markdown",
      "source": [
        "## **Circumscription logic**"
      ],
      "metadata": {
        "id": "IJOT_J7vLyPO"
      }
    },
    {
      "cell_type": "code",
      "source": [
        "class Circumscription():\n",
        "  def __init__(self):\n",
        "    self.evidence = {}\n",
        "\n",
        "  def get_evidence(self):\n",
        "    return self.evidence\n",
        "\n",
        "  # Add an explicit value\n",
        "  def add_facts(self, entity, fact, value):\n",
        "    if entity not in self.evidence:\n",
        "      self.evidence[entity] = {}\n",
        "      self.evidence[entity][fact] = value\n",
        "\n",
        "    self.evidence[entity][fact] = value\n",
        "\n",
        "  def query(self, entity, fact):\n",
        "\n",
        "    if entity not in self.evidence:\n",
        "        return \"The person does not exist in the database.\"\n",
        "\n",
        "    if fact not in self.evidence[entity]:\n",
        "      return \"The fact does not exist for this person.\"\n",
        "\n",
        "    # Finalmente, check if there is a contradiction (more than one value)\n",
        "    if len(self.evidence[entity][fact]) > 1:\n",
        "        return \"There is a contradiction.\"\n",
        "\n",
        "    return self.evidence[entity].get(entity, {}).get(fact, \"Cannot be inferred.\")"
      ],
      "metadata": {
        "id": "hcszaKpQjs6L"
      },
      "execution_count": 3,
      "outputs": []
    },
    {
      "cell_type": "code",
      "source": [
        "# ----Demonstration----\n",
        "\n",
        "circ = Circumscription() # Create an object frome the class to access its methods\n",
        "\n",
        "# Adding facts\n",
        "circ.add_facts(\"Maria\", \"good_credit_history\", True)\n",
        "circ.add_facts(\"Maria\", \"high_debts\", True)\n",
        "circ.add_facts(\"Maria\", \"high_income\", True)\n",
        "circ.add_facts(\"Maria\", \"stable_job\", True)\n",
        "circ.add_facts(\"Carlos\", \"enough_savings\", True)\n",
        "circ.add_facts(\"Carlos\", \"has_investments\", True)\n",
        "\n",
        "# Adding exceptions\n",
        "#print(circ.get_evidence())\n",
        "\n",
        "entity = \"Carlos\"\n",
        "fact = \"good_credit_history\"\n",
        "result = circ.query(entity, fact)\n",
        "# Making some queries\n",
        "print(f\"{entity} ({fact}): {result}\")"
      ],
      "metadata": {
        "colab": {
          "base_uri": "https://localhost:8080/"
        },
        "id": "Y19TQwW1guIp",
        "outputId": "0102e967-27c2-4e79-b9e4-5c070f1d6152"
      },
      "execution_count": 4,
      "outputs": [
        {
          "output_type": "stream",
          "name": "stdout",
          "text": [
            "Carlos (good_credit_history): The fact does not exist for this person.\n"
          ]
        }
      ]
    },
    {
      "cell_type": "code",
      "source": [
        "circ.get_evidence()"
      ],
      "metadata": {
        "colab": {
          "base_uri": "https://localhost:8080/"
        },
        "id": "C53C8r_59bzE",
        "outputId": "48763ebb-34c9-4221-a659-74768f10371b"
      },
      "execution_count": 5,
      "outputs": [
        {
          "output_type": "execute_result",
          "data": {
            "text/plain": [
              "{'Maria': {'good_credit_history': True,\n",
              "  'high_debts': True,\n",
              "  'high_income': True,\n",
              "  'stable_job': True},\n",
              " 'Carlos': {'enough_savings': True, 'has_investments': True}}"
            ]
          },
          "metadata": {},
          "execution_count": 5
        }
      ]
    }
  ]
}