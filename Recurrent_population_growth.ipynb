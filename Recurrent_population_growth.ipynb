{
  "nbformat": 4,
  "nbformat_minor": 0,
  "metadata": {
    "colab": {
      "provenance": []
    },
    "kernelspec": {
      "name": "python3",
      "display_name": "Python 3"
    },
    "language_info": {
      "name": "python"
    }
  },
  "cells": [
    {
      "cell_type": "markdown",
      "source": [
        "# **Rabbit population growth**"
      ],
      "metadata": {
        "id": "LM2GCv3vu4DC"
      }
    },
    {
      "cell_type": "markdown",
      "source": [
        "<div align = \"justify\">\n",
        "\n",
        "Population growth can be modeled with the following recursive formula:\n",
        "\n",
        "$$P_{t} = P_{t-1} + r * P_{t-1} * (1 - \\frac{P_{t-1}}{K})$$\n",
        "\n",
        "Where: \\\n",
        "$P_{t}$: Population in the year t \\\n",
        "$P_{t-1}$: Population in the previous year \\\n",
        "$r$: Growth rate (a value between 0 and 1)\\\n",
        "$K$: Carrying capacity (the maximum number of rabbits that the ecosystem can support)\n",
        "\n",
        "</div>"
      ],
      "metadata": {
        "id": "5OAidOUF9Yyg"
      }
    },
    {
      "cell_type": "code",
      "execution_count": 116,
      "metadata": {
        "id": "fTBVd_zuuBb4"
      },
      "outputs": [],
      "source": [
        "# Function that computes the the population growth\n",
        "def population_growth(pt, r, k, s_year, year):\n",
        "\n",
        "  \"\"\" Base case: \"\"\"\n",
        "  # In case we are in the same year, we return the current population\n",
        "  if year == s_year:\n",
        "    print(f\"Year {year}: {pt}\")\n",
        "    return pt\n",
        "\n",
        "  \"\"\" Recursive case: \"\"\"\n",
        "\n",
        "  # Print the year with current population\n",
        "  print(f\"Year {s_year}: {pt}\")\n",
        "\n",
        "  # Update population for the next year\n",
        "  next_yearp = pt + (r * pt * (1 - (pt/k)))\n",
        "\n",
        "  # Increase one year\n",
        "  s_year += 1\n",
        "\n",
        "  # Call function again\n",
        "  return population_growth(next_yearp, r, k, s_year, year)"
      ]
    },
    {
      "cell_type": "code",
      "source": [
        "# Parameters\n",
        "start_population = 2\n",
        "growth_rate = 0.4\n",
        "max_capacity = 28\n",
        "start_year = 1\n",
        "final_year = 15\n",
        "final_population = population_growth(pt=start_population, r=growth_rate, k=max_capacity, s_year=start_year, year=final_year)\n",
        "\n",
        "print(f\"\\nThe number of rabits after {final_year} years is: {final_population}\")"
      ],
      "metadata": {
        "colab": {
          "base_uri": "https://localhost:8080/"
        },
        "id": "WgmiTX1Kwj-6",
        "outputId": "94a27ec9-89c4-4dc0-9ce1-7a33296db3d3"
      },
      "execution_count": 118,
      "outputs": [
        {
          "output_type": "stream",
          "name": "stdout",
          "text": [
            "Year 1: 2\n",
            "Year 2: 2.742857142857143\n",
            "Year 3: 3.732524781341108\n",
            "Year 4: 5.026509818972901\n",
            "Year 5: 6.676173732844476\n",
            "Year 6: 8.709910430109087\n",
            "Year 7: 11.110124035002393\n",
            "Year 8: 13.790818562244237\n",
            "Year 9: 16.590193464045644\n",
            "Year 10: 19.294349147171577\n",
            "Year 11: 21.693918677283627\n",
            "Year 12: 23.64825603996\n",
            "Year 13: 25.118415402636792\n",
            "Year 14: 26.15242738741406\n",
            "Year 15: 26.84269179589447\n",
            "\n",
            "The number of rabits after 15 years is: 26.84269179589447\n"
          ]
        }
      ]
    }
  ]
}