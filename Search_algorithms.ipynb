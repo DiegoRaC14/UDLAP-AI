{
  "nbformat": 4,
  "nbformat_minor": 0,
  "metadata": {
    "colab": {
      "provenance": []
    },
    "kernelspec": {
      "name": "python3",
      "display_name": "Python 3"
    },
    "language_info": {
      "name": "python"
    }
  },
  "cells": [
    {
      "cell_type": "code",
      "execution_count": 49,
      "metadata": {
        "id": "Vs60_on_WUBn"
      },
      "outputs": [],
      "source": [
        "import heapq # Priority queue\n",
        "from collections import deque"
      ]
    },
    {
      "cell_type": "markdown",
      "source": [
        "# **Uninformed search algorithms**"
      ],
      "metadata": {
        "id": "_M1fpgKd2J6K"
      }
    },
    {
      "cell_type": "code",
      "source": [
        "# Maze\n",
        "maze = [\n",
        "    [0, 0, 1, 1, 0],\n",
        "    [1, 0, 0, 1, 0],\n",
        "    [1, 1, 0, 1, 1],\n",
        "    [0, 0, 0, 0, 0],\n",
        "    [1, 1, 1, 0, 1],\n",
        "    [1, 1, 1, 'T', 1]\n",
        "]\n",
        "start = (0,0)"
      ],
      "metadata": {
        "id": "me5VXtV6W4lE"
      },
      "execution_count": 50,
      "outputs": []
    },
    {
      "cell_type": "markdown",
      "source": [
        "## **Breadth-first search algorithm**"
      ],
      "metadata": {
        "id": "GFsf99nw1sT7"
      }
    },
    {
      "cell_type": "code",
      "source": [
        "def BFS(maze, start):\n",
        "  rows = len(maze)  # Number of rows of the maze\n",
        "  columns = len(maze[0])  # Number of columns of the maze\n",
        "  print(f\"Rows: {rows} Columns: {columns}\")\n",
        "\n",
        "  # Possible movements: up, down, left, right\n",
        "  movements_x = [-1, 1, 0, 0]\n",
        "  movements_y = [0, 0, 1, -1]\n",
        "\n",
        "  # Start position\n",
        "  start_x, start_y = start\n",
        "\n",
        "  # Create BFS queues\n",
        "  row_queue = deque()\n",
        "  column_queue = deque()\n",
        "\n",
        "  # Variables to track movements\n",
        "  moves_count = 0\n",
        "  nodes_left_in_layer = 1 # Number of nodes for exploring in the current layer\n",
        "  nodes_in_next_layer = 0 # Number of nodes in the next layer\n",
        "  end = False  # Flag for reaching 'T'\n",
        "\n",
        "  # Visited matrix\n",
        "  visited = [[False for _ in range(columns)] for _ in range(rows)]\n",
        "\n",
        "  # Start BFS\n",
        "  row_queue.append(start_x) # Add the starting position to the queue\n",
        "  column_queue.append(start_y)\n",
        "  visited[start_x][start_y] = True\n",
        "\n",
        "  while len(row_queue) > 0:\n",
        "    # Removes the value from the queue\n",
        "    x = row_queue.popleft()\n",
        "    y = column_queue.popleft()\n",
        "\n",
        "    if maze[x][y] == 'T':\n",
        "      return f\"Minimum number of moves: {moves_count}\"\n",
        "\n",
        "    # Update nodes_in_next_layer properly\n",
        "    nodes_in_next_layer = explore_neighbors(x, y, movements_x, movements_y, visited,\n",
        "                        row_queue, column_queue, nodes_in_next_layer, maze, rows, columns)\n",
        "    nodes_left_in_layer -= 1\n",
        "\n",
        "    if nodes_left_in_layer == 0:\n",
        "\n",
        "      nodes_left_in_layer = nodes_in_next_layer\n",
        "      nodes_in_next_layer = 0\n",
        "      moves_count += 1\n",
        "\n",
        "  return \"No path found\"  # No path found\n",
        "\n",
        "# Explore negihbors and returns\n",
        "def explore_neighbors(x, y, movements_x, movements_y, visited, row_queue,\n",
        "                    column_queue, nodes_in_next_layer, maze, rows, columns):\n",
        "  for i in range(4):\n",
        "    next_x = x + movements_x[i]\n",
        "    next_y = y + movements_y[i]\n",
        "\n",
        "    # Check bounds of the maze\n",
        "    if next_x < 0 or next_y < 0:\n",
        "      continue\n",
        "    if next_x >= rows or next_y >= columns:\n",
        "      continue\n",
        "\n",
        "    # Avoid visited locations or blocked cells (1)\n",
        "    if visited[next_x][next_y]:\n",
        "      continue\n",
        "    if maze[next_x][next_y] == 1:\n",
        "      continue\n",
        "\n",
        "    # Add the coordinates to the queues\n",
        "    row_queue.append(next_x)\n",
        "    column_queue.append(next_y)\n",
        "    visited[next_x][next_y] = True # Mark the position as visited\n",
        "    nodes_in_next_layer += 1  # Update count\n",
        "\n",
        "  return nodes_in_next_layer  # Return updated count"
      ],
      "metadata": {
        "id": "iTDpRrQLu-z4"
      },
      "execution_count": 51,
      "outputs": []
    },
    {
      "cell_type": "code",
      "source": [
        "BFS(maze, start)"
      ],
      "metadata": {
        "colab": {
          "base_uri": "https://localhost:8080/",
          "height": 53
        },
        "id": "6EglxqUQpjV4",
        "outputId": "69e73fae-a484-477a-a2ab-737756634cf2"
      },
      "execution_count": 52,
      "outputs": [
        {
          "output_type": "stream",
          "name": "stdout",
          "text": [
            "Rows: 6 Columns: 5\n"
          ]
        },
        {
          "output_type": "execute_result",
          "data": {
            "text/plain": [
              "'Minimum number of moves: 8'"
            ],
            "application/vnd.google.colaboratory.intrinsic+json": {
              "type": "string"
            }
          },
          "metadata": {},
          "execution_count": 52
        }
      ]
    },
    {
      "cell_type": "markdown",
      "source": [
        "## **Depth-first search algorithm**"
      ],
      "metadata": {
        "id": "vntmFfnQ1gFi"
      }
    },
    {
      "cell_type": "code",
      "source": [
        "def DFS(maze, start):\n",
        "  rows = len(maze)  # Number of rows in the maze\n",
        "  columns = len(maze[0])  # Number of columns in the maze\n",
        "  print(f\"Rows: {rows} Columns: {columns}\")\n",
        "\n",
        "  # Possible movements: up, down, left, right\n",
        "  movements_x = [-1, 1, 0, 0]\n",
        "  movements_y = [0, 0, 1, -1]\n",
        "\n",
        "  # Start position\n",
        "  start_x, start_y = start\n",
        "\n",
        "  # Create DFS stack (two stacks)\n",
        "  row_stack = deque()\n",
        "  column_stack = deque()\n",
        "\n",
        "  # Craete a visited matrix (filling with False values)\n",
        "  visited = [[False for _ in range(columns)] for _ in range(rows)]\n",
        "\n",
        "  # Start DFS\n",
        "  row_stack.append(start_x)  # Add the starting first position to the stack\n",
        "  column_stack.append(start_y) # Add the other position to the stack\n",
        "  visited[start_x][start_y] = True # Mark as visited\n",
        "\n",
        "  # Path tracking (not counting layers like BFS)\n",
        "  moves_count = 0\n",
        "\n",
        "  while len(row_stack) > 0:\n",
        "      # Removes the value from the stack (LIFO order)\n",
        "      x = row_stack.pop()\n",
        "      y = column_stack.pop()\n",
        "\n",
        "      if maze[x][y] == 'T':\n",
        "          return f\"The goal was found in {moves_count} moves.\"\n",
        "\n",
        "      # Explore neighbors\n",
        "      for i in range(4):\n",
        "          new_x = x + movements_x[i]\n",
        "          new_y = y + movements_y[i]\n",
        "\n",
        "          if check_valid_pos(new_x, new_y, maze, visited, rows, columns):\n",
        "              row_stack.append(new_x)\n",
        "              column_stack.append(new_y)\n",
        "              visited[new_x][new_y] = True\n",
        "\n",
        "      moves_count += 1  # Increment moves each time a new node is visited\n",
        "\n",
        "  return -1  # No path found\n",
        "\n",
        "\n",
        "# Function that checks if the position is valid\n",
        "def check_valid_pos(x, y, maze, visited, rows, columns):\n",
        "\n",
        "  # Check that the coordinates are valid\n",
        "  if x < 0 or y < 0 or x >= rows or y >= columns:\n",
        "      return False\n",
        "  #  Check if the position is already visited or is a wall\n",
        "  if visited[x][y] or maze[x][y] == 1: # It checks if there is a wall (1)\n",
        "      return False\n",
        "  return True"
      ],
      "metadata": {
        "id": "DhcTVmwBZeNR"
      },
      "execution_count": 53,
      "outputs": []
    },
    {
      "cell_type": "code",
      "source": [
        "DFS(maze, start)"
      ],
      "metadata": {
        "colab": {
          "base_uri": "https://localhost:8080/",
          "height": 53
        },
        "id": "9AakKBOwZ7iS",
        "outputId": "e038805d-2492-486d-826f-150952047248"
      },
      "execution_count": 54,
      "outputs": [
        {
          "output_type": "stream",
          "name": "stdout",
          "text": [
            "Rows: 6 Columns: 5\n"
          ]
        },
        {
          "output_type": "execute_result",
          "data": {
            "text/plain": [
              "'The goal was found in 11 moves.'"
            ],
            "application/vnd.google.colaboratory.intrinsic+json": {
              "type": "string"
            }
          },
          "metadata": {},
          "execution_count": 54
        }
      ]
    },
    {
      "cell_type": "markdown",
      "source": [
        "## **Uniform cost search algorithm**"
      ],
      "metadata": {
        "id": "_m51AVUQ114r"
      }
    },
    {
      "cell_type": "code",
      "source": [
        "# Maze with cost in a dictionary form\n",
        "maze_with_cost = {\n",
        "  'A': [('B', 1), ('C', 4)],\n",
        "  'B': [('D', 5), ('E', 2)],\n",
        "  'C': [('F', 3), ('G', 4)],\n",
        "  'D': [('H', 3)],\n",
        "  'E': [('H', 6)],\n",
        "  'F': [('I', 4)],\n",
        "  'G': [('J', 2)],\n",
        "  'H': [('I', 1)],\n",
        "  'I': [('J', 2)]\n",
        "}"
      ],
      "metadata": {
        "id": "CoX2X_8ifHnP"
      },
      "execution_count": 55,
      "outputs": []
    },
    {
      "cell_type": "code",
      "source": [
        "def UCS(graph, start, end):\n",
        "  # Priority queue stores tuples of (cost, node, path)\n",
        "  priority_queue = [(0, start, [])]\n",
        "  visited = set()  # Set to keep track of visited nodes\n",
        "\n",
        "  while priority_queue:\n",
        "      # Extract the node with the lowest cost from the priority queue\n",
        "      cost, node, path = heapq.heappop(priority_queue)\n",
        "\n",
        "      if node in visited: # If the node has already been visited, we skip it\n",
        "          continue\n",
        "      visited.add(node)  # Mark the node as visited\n",
        "\n",
        "      # Update the path with the current node\n",
        "      path = path + [node]\n",
        "\n",
        "      # If we reached the end node, then return the result\n",
        "      if node == end:\n",
        "          # Prints a message\n",
        "          return f\"Shortest path: {path}. The path would cost: {cost}\"\n",
        "\n",
        "      # Retrieves all neighbors of node\n",
        "      for neighbor, edge_cost in graph.get(node, []):\n",
        "          if neighbor not in visited: # If the neighbor has not been visited, we add it to the priority queue\n",
        "\n",
        "              # Push the neighbor into the priority queue with updated cost and path\n",
        "              heapq.heappush(priority_queue, (cost + edge_cost, neighbor, path))\n",
        "\n",
        "  return \"No path found\""
      ],
      "metadata": {
        "id": "edqX1ySJuT-V"
      },
      "execution_count": 56,
      "outputs": []
    },
    {
      "cell_type": "code",
      "source": [
        "UCS(maze_with_cost, 'A', 'J')"
      ],
      "metadata": {
        "colab": {
          "base_uri": "https://localhost:8080/",
          "height": 36
        },
        "id": "xfa_I5p0q_Pu",
        "outputId": "dcac7f26-2c28-4f88-ed87-1888bd037e06"
      },
      "execution_count": 57,
      "outputs": [
        {
          "output_type": "execute_result",
          "data": {
            "text/plain": [
              "\"Shortest path: ['A', 'C', 'G', 'J']. The path would cost: 10\""
            ],
            "application/vnd.google.colaboratory.intrinsic+json": {
              "type": "string"
            }
          },
          "metadata": {},
          "execution_count": 57
        }
      ]
    },
    {
      "cell_type": "markdown",
      "source": [
        "# **Informed search algorithms**"
      ],
      "metadata": {
        "id": "yqSOUEim2EhH"
      }
    },
    {
      "cell_type": "code",
      "source": [
        "# Heruistics\n",
        "heuristic_values = {\n",
        "    'A': 7,\n",
        "    'B': 6,\n",
        "    'C': 3,\n",
        "    'D': 5,\n",
        "    'E': 4,\n",
        "    'F': 2,\n",
        "    'G': 1,\n",
        "    'H': 3,\n",
        "    'I': 1,\n",
        "    'J': 0\n",
        "}"
      ],
      "metadata": {
        "id": "y5X4GW_86X3h"
      },
      "execution_count": 58,
      "outputs": []
    },
    {
      "cell_type": "markdown",
      "source": [
        "## **Greedy algorithm**"
      ],
      "metadata": {
        "id": "Sed2DcOj223P"
      }
    },
    {
      "cell_type": "code",
      "source": [
        "def greedy_search(graph, start, goal, heuristic_values):\n",
        "\n",
        "    # Set to keep track of visited nodes\n",
        "    visited = set()\n",
        "\n",
        "    # Priority queue storing tuples: (heuristic, current_node, path, cost)\n",
        "    priority_queue = [(heuristic_values[start], start, [start], 0)]\n",
        "\n",
        "    while priority_queue:\n",
        "        # Pop the node with the lowest heuristic value\n",
        "        current_h, current_node, path, cost = heapq.heappop(priority_queue)\n",
        "\n",
        "        if current_node in visited:\n",
        "            continue\n",
        "        visited.add(current_node)\n",
        "\n",
        "        # Check if we've reached the goal\n",
        "        if current_node == goal:\n",
        "            return f\"Path found: {path}. Total cost: {cost}\"\n",
        "\n",
        "        # Expand neighbors\n",
        "        for neighbor, edge_cost in graph.get(current_node, []):\n",
        "            if neighbor not in visited:\n",
        "                new_cost = cost + edge_cost # Computes the new cost\n",
        "                # Get the heuristic value for the neighbor (if not found put a high value)\n",
        "                new_h = heuristic_values.get(neighbor, float('inf'))\n",
        "                heapq.heappush(priority_queue, (new_h, neighbor, path + [neighbor], new_cost))\n",
        "\n",
        "    return \"No path found\""
      ],
      "metadata": {
        "id": "IlXluWtz56cP"
      },
      "execution_count": 59,
      "outputs": []
    },
    {
      "cell_type": "code",
      "source": [
        "greedy_search(maze_with_cost, 'A', 'J', heuristic_values)"
      ],
      "metadata": {
        "colab": {
          "base_uri": "https://localhost:8080/",
          "height": 36
        },
        "id": "jHrdek4f8J-H",
        "outputId": "3f93fd4f-7af1-4930-9dd6-ade833f1d11d"
      },
      "execution_count": 60,
      "outputs": [
        {
          "output_type": "execute_result",
          "data": {
            "text/plain": [
              "\"Path found: ['A', 'C', 'G', 'J']. Total cost: 10\""
            ],
            "application/vnd.google.colaboratory.intrinsic+json": {
              "type": "string"
            }
          },
          "metadata": {},
          "execution_count": 60
        }
      ]
    },
    {
      "cell_type": "markdown",
      "source": [
        "## **A* algorithm**"
      ],
      "metadata": {
        "id": "FF7m0-e_-TTf"
      }
    },
    {
      "cell_type": "code",
      "source": [
        "def a_star_search(graph, start, goal, heuristic_values):\n",
        "\n",
        "  open_list = [] # Create a list that stores tuples\n",
        "  initial_heuristic = heuristic_values.get(start, float('inf'))\n",
        "  heapq.heappush(open_list, (initial_heuristic, 0, start, [start]))\n",
        "\n",
        "  # The closed_set keeps track of nodes that have been completely visited\n",
        "  closed_set = set()\n",
        "\n",
        "  while open_list:\n",
        "      # Pop the node with the smallest total estimated cost from the priority queue\n",
        "      total_estimated_cost, path_cost, current_node, path_so_far = heapq.heappop(open_list)\n",
        "\n",
        "      # Check if we have reached the goal node\n",
        "      if current_node == goal:\n",
        "          return f\"Path found: {path_so_far}. Total cost: {path_cost}\"\n",
        "\n",
        "      # If the node was already visited we skip it\n",
        "      if current_node in closed_set:\n",
        "          continue\n",
        "      closed_set.add(current_node)\n",
        "\n",
        "      # Expand the current node's neighbors\n",
        "      for neighbor, edge_cost in graph.get(current_node, []):\n",
        "          # Skip neighbor if it has already been processed\n",
        "          if neighbor in closed_set:\n",
        "              continue\n",
        "\n",
        "          new_path_cost = path_cost + edge_cost # Compute new cost from start to neighbor\n",
        "          heuristic_neighbor = heuristic_values.get(neighbor, float('inf')) # Retrieve the heuristic value for the neighbor\n",
        "\n",
        "          # Compute the total estimated cost for the neighbor\n",
        "          new_total_estimated_cost = new_path_cost + heuristic_neighbor\n",
        "\n",
        "          new_path = path_so_far + [neighbor] # Construct the new path\n",
        "\n",
        "          # Push the neighbor into the priority queue\n",
        "          heapq.heappush(open_list, (new_total_estimated_cost, new_path_cost, neighbor, new_path))\n",
        "\n",
        "  return \"No path found\""
      ],
      "metadata": {
        "id": "_Trg4QL8-S6R"
      },
      "execution_count": 61,
      "outputs": []
    },
    {
      "cell_type": "code",
      "source": [
        "a_star_search(maze_with_cost, 'A', 'J', heuristic_values)"
      ],
      "metadata": {
        "colab": {
          "base_uri": "https://localhost:8080/",
          "height": 36
        },
        "id": "x3UAkxvzAUWG",
        "outputId": "424be320-03ef-40bb-c1ff-eb0faa6f62c4"
      },
      "execution_count": 62,
      "outputs": [
        {
          "output_type": "execute_result",
          "data": {
            "text/plain": [
              "\"Path found: ['A', 'C', 'G', 'J']. Total cost: 10\""
            ],
            "application/vnd.google.colaboratory.intrinsic+json": {
              "type": "string"
            }
          },
          "metadata": {},
          "execution_count": 62
        }
      ]
    },
    {
      "cell_type": "markdown",
      "source": [
        "## **A* tree algorithm**"
      ],
      "metadata": {
        "id": "dNApbPOMCnn2"
      }
    },
    {
      "cell_type": "code",
      "source": [
        "def a_star_search(graph, start, goal, heuristic_values):\n",
        "  # Start with the starting node\n",
        "  initial_h = heuristic_values.get(start, float('inf'))  # Use the heuristic value for the start node\n",
        "  open_list = [(initial_h, 0, start, [start])]\n",
        "\n",
        "  # Create set\n",
        "  closed_set = set()\n",
        "\n",
        "  while open_list:\n",
        "      # Pop the node with the smallest value\n",
        "      total_cost, cost_so_far, current, path = heapq.heappop(open_list)\n",
        "\n",
        "      # If the current node is the goal, return the path and total cost\n",
        "      if current == goal:\n",
        "          return f\"Path found: {path}. Total cost: {cost_so_far}\" # Print path\n",
        "\n",
        "\n",
        "      # If the node has already been visited the skip it.\n",
        "      if current in closed_set:\n",
        "          continue\n",
        "      closed_set.add(current)\n",
        "\n",
        "      # Expand neighbors of the current node\n",
        "      for neighbor, edge_cost in graph.get(current, []):\n",
        "          if neighbor in closed_set:\n",
        "              continue  # Skip already processed neighbors\n",
        "\n",
        "          new_cost = cost_so_far + edge_cost  # Update cumulative cost g\n",
        "\n",
        "          # Get the heuristic value for the neighbor (use infinity if missing)\n",
        "          new_h = heuristic_values.get(neighbor, float('inf'))\n",
        "          new_total_cost = new_cost + new_h # formula: f = g + h\n",
        "          new_path = path + [neighbor] # Extend the current path\n",
        "\n",
        "          # Push the neighbor into the priority queue\n",
        "          heapq.heappush(open_list, (new_total_cost, new_cost, neighbor, new_path))\n",
        "\n",
        "  return \"No path found\""
      ],
      "metadata": {
        "id": "hybMp7hKFcQ0"
      },
      "execution_count": 63,
      "outputs": []
    },
    {
      "cell_type": "code",
      "source": [
        "a_star_search(maze_with_cost, 'A', 'J',  heuristic_values)"
      ],
      "metadata": {
        "colab": {
          "base_uri": "https://localhost:8080/",
          "height": 36
        },
        "id": "esrKd4v0FtdE",
        "outputId": "4eb52c2e-e511-4529-fce2-87daeb3d1de2"
      },
      "execution_count": 64,
      "outputs": [
        {
          "output_type": "execute_result",
          "data": {
            "text/plain": [
              "\"Path found: ['A', 'C', 'G', 'J']. Total cost: 10\""
            ],
            "application/vnd.google.colaboratory.intrinsic+json": {
              "type": "string"
            }
          },
          "metadata": {},
          "execution_count": 64
        }
      ]
    }
  ]
}