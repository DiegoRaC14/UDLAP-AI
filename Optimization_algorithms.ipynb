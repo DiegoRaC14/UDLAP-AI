{
  "nbformat": 4,
  "nbformat_minor": 0,
  "metadata": {
    "colab": {
      "provenance": []
    },
    "kernelspec": {
      "name": "python3",
      "display_name": "Python 3"
    },
    "language_info": {
      "name": "python"
    }
  },
  "cells": [
    {
      "cell_type": "markdown",
      "source": [
        "# **Gradient descent algorithm**"
      ],
      "metadata": {
        "id": "2FHIQzlwuVgg"
      }
    },
    {
      "cell_type": "code",
      "execution_count": null,
      "metadata": {
        "id": "jsqS0-LDuPmD"
      },
      "outputs": [],
      "source": [
        "import numpy as np\n",
        "\n",
        "def gradient_descent(gradient, start, learning_rate=0.1, n_iter=100, tol=1e-6):\n",
        "    \"\"\"\n",
        "    Perform Gradient Descent to minimize a function.\n",
        "\n",
        "    Parameters:\n",
        "        gradient (function): The gradient function of the objective function.\n",
        "        start (float): The initial point to start the optimization.\n",
        "        learning_rate (float): The step size for each iteration.\n",
        "        n_iter (int): The maximum number of iterations.\n",
        "        tol (float): The tolerance for stopping criteria.\n",
        "\n",
        "    Returns:\n",
        "        float: The optimized value of x.\n",
        "    \"\"\"\n",
        "    x = start  # Initialize the starting point\n",
        "    for _ in range(n_iter):\n",
        "        grad = gradient(x)  # Compute the gradient at the current point\n",
        "        if np.abs(grad) < tol:  # Check if the gradient is close to zero (stopping condition)\n",
        "            break\n",
        "        x = x - learning_rate * grad  # Update x using the gradient\n",
        "    return x\n",
        "\n",
        "# Define the objective function and its gradient\n",
        "def f(x):\n",
        "    return x**2  # Example function: f(x) = x^2\n",
        "\n",
        "def grad_f(x):\n",
        "    return 2 * x  # Gradient of f(x): f'(x) = 2x\n",
        "\n",
        "# Run Gradient Descent\n",
        "start = 10.0  # Initial point\n",
        "solution = gradient_descent(grad_f, start)\n",
        "print(\"Solution found:\", solution)"
      ]
    }
  ]
}